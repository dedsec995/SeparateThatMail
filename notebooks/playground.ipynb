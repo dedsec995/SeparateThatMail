{
 "cells": [
  {
   "cell_type": "code",
   "execution_count": 1,
   "id": "6afd5775",
   "metadata": {},
   "outputs": [],
   "source": [
    "import pandas as pd\n",
    "from bs4 import BeautifulSoup\n",
    "import re\n",
    "import unicodedata"
   ]
  },
  {
   "cell_type": "code",
   "execution_count": 4,
   "id": "6b53157f",
   "metadata": {},
   "outputs": [],
   "source": [
    "df = pd.read_csv('../data/data.csv')"
   ]
  },
  {
   "cell_type": "code",
   "execution_count": 5,
   "id": "40d24d75",
   "metadata": {},
   "outputs": [],
   "source": [
    "# pd.set_option('display.max_colwidth', None)"
   ]
  },
  {
   "cell_type": "code",
   "execution_count": 6,
   "id": "7e482738",
   "metadata": {},
   "outputs": [
    {
     "data": {
      "text/html": [
       "<div>\n",
       "<style scoped>\n",
       "    .dataframe tbody tr th:only-of-type {\n",
       "        vertical-align: middle;\n",
       "    }\n",
       "\n",
       "    .dataframe tbody tr th {\n",
       "        vertical-align: top;\n",
       "    }\n",
       "\n",
       "    .dataframe thead th {\n",
       "        text-align: right;\n",
       "    }\n",
       "</style>\n",
       "<table border=\"1\" class=\"dataframe\">\n",
       "  <thead>\n",
       "    <tr style=\"text-align: right;\">\n",
       "      <th></th>\n",
       "      <th>text</th>\n",
       "      <th>label</th>\n",
       "    </tr>\n",
       "  </thead>\n",
       "  <tbody>\n",
       "    <tr>\n",
       "      <th>0</th>\n",
       "      <td>Subject: [External Email] Amit, your applicati...</td>\n",
       "      <td>applied</td>\n",
       "    </tr>\n",
       "    <tr>\n",
       "      <th>1</th>\n",
       "      <td>Subject: [External Email] Barclays: We’ve rece...</td>\n",
       "      <td>applied</td>\n",
       "    </tr>\n",
       "    <tr>\n",
       "      <th>2</th>\n",
       "      <td>Subject: [External Email] Thank you for applyi...</td>\n",
       "      <td>applied</td>\n",
       "    </tr>\n",
       "    <tr>\n",
       "      <th>3</th>\n",
       "      <td>Subject: [External Email] Amit, your applicati...</td>\n",
       "      <td>applied</td>\n",
       "    </tr>\n",
       "    <tr>\n",
       "      <th>4</th>\n",
       "      <td>Subject: [External Email] Amit, your applicati...</td>\n",
       "      <td>applied</td>\n",
       "    </tr>\n",
       "    <tr>\n",
       "      <th>500</th>\n",
       "      <td>Subject: [External Email] Your application to ...</td>\n",
       "      <td>rejects</td>\n",
       "    </tr>\n",
       "    <tr>\n",
       "      <th>501</th>\n",
       "      <td>Subject: [External Email] Regarding your appli...</td>\n",
       "      <td>rejects</td>\n",
       "    </tr>\n",
       "    <tr>\n",
       "      <th>502</th>\n",
       "      <td>Subject: [External Email] Application Follow U...</td>\n",
       "      <td>rejects</td>\n",
       "    </tr>\n",
       "    <tr>\n",
       "      <th>503</th>\n",
       "      <td>Subject: [External Email] Your Job Application...</td>\n",
       "      <td>rejects</td>\n",
       "    </tr>\n",
       "    <tr>\n",
       "      <th>504</th>\n",
       "      <td>Subject: [External Email] State Street Externa...</td>\n",
       "      <td>rejects</td>\n",
       "    </tr>\n",
       "    <tr>\n",
       "      <th>896</th>\n",
       "      <td>Subject: [External Email] Thanks for Applying ...</td>\n",
       "      <td>normal</td>\n",
       "    </tr>\n",
       "    <tr>\n",
       "      <th>897</th>\n",
       "      <td>Subject: [External Email] How likely are you t...</td>\n",
       "      <td>normal</td>\n",
       "    </tr>\n",
       "    <tr>\n",
       "      <th>898</th>\n",
       "      <td>Subject: [External Email] BA/DA First Round Sc...</td>\n",
       "      <td>normal</td>\n",
       "    </tr>\n",
       "    <tr>\n",
       "      <th>899</th>\n",
       "      <td>Subject: [External Email] Amazon application: ...</td>\n",
       "      <td>normal</td>\n",
       "    </tr>\n",
       "    <tr>\n",
       "      <th>900</th>\n",
       "      <td>Subject: [External Email] Thank You for Applyi...</td>\n",
       "      <td>normal</td>\n",
       "    </tr>\n",
       "  </tbody>\n",
       "</table>\n",
       "</div>"
      ],
      "text/plain": [
       "                                                  text    label\n",
       "0    Subject: [External Email] Amit, your applicati...  applied\n",
       "1    Subject: [External Email] Barclays: We’ve rece...  applied\n",
       "2    Subject: [External Email] Thank you for applyi...  applied\n",
       "3    Subject: [External Email] Amit, your applicati...  applied\n",
       "4    Subject: [External Email] Amit, your applicati...  applied\n",
       "500  Subject: [External Email] Your application to ...  rejects\n",
       "501  Subject: [External Email] Regarding your appli...  rejects\n",
       "502  Subject: [External Email] Application Follow U...  rejects\n",
       "503  Subject: [External Email] Your Job Application...  rejects\n",
       "504  Subject: [External Email] State Street Externa...  rejects\n",
       "896  Subject: [External Email] Thanks for Applying ...   normal\n",
       "897  Subject: [External Email] How likely are you t...   normal\n",
       "898  Subject: [External Email] BA/DA First Round Sc...   normal\n",
       "899  Subject: [External Email] Amazon application: ...   normal\n",
       "900  Subject: [External Email] Thank You for Applyi...   normal"
      ]
     },
     "execution_count": 6,
     "metadata": {},
     "output_type": "execute_result"
    }
   ],
   "source": [
    "df.groupby('label').head(5)"
   ]
  },
  {
   "cell_type": "code",
   "execution_count": 7,
   "id": "40e128bc",
   "metadata": {},
   "outputs": [],
   "source": [
    "def clean_text(text):\n",
    "    \"\"\"\n",
    "    Applies a series of cleaning operations to a given text.\n",
    "    \"\"\"\n",
    "    if not isinstance(text, str):\n",
    "        return \"\" # Handle non-string inputs (e.g., None, NaN)\n",
    "\n",
    "    # 1. Decode HTML entities (if any, though BeautifulSoup often handles this)\n",
    "    # This step is often implicitly handled by BeautifulSoup's get_text()\n",
    "    # text = html.unescape(text) # Requires import html\n",
    "\n",
    "    # 2. Remove HTML tags using BeautifulSoup\n",
    "    soup = BeautifulSoup(text, 'html.parser')\n",
    "    clean_text = soup.get_text(separator=' ', strip=True) # strip=True removes leading/trailing whitespace from each line\n",
    "\n",
    "    # 3. Remove URLs\n",
    "    clean_text = re.sub(r'http\\S+|www\\S+|https\\S+', '', clean_text, flags=re.MULTILINE)\n",
    "\n",
    "    # 4. Remove email addresses (optional, but emails often contain unique IDs/names)\n",
    "    clean_text = re.sub(r'\\S*@\\S*\\s?', '', clean_text)\n",
    "\n",
    "    # 5. Remove non-alphanumeric characters (keeping spaces and some punctuation for now)\n",
    "    # This regex keeps letters, numbers, and basic punctuation, and whitespace\n",
    "    # You might adjust this depending on how much punctuation you want to keep.\n",
    "    # For general classification, removing most is common.\n",
    "    # Let's keep alphanumeric and basic spaces initially.\n",
    "    clean_text = re.sub(r'[^a-zA-Z0-9\\s.,?!]', '', clean_text) # keeps letters, numbers, spaces, and basic punctuation\n",
    "\n",
    "    # 6. Convert to lowercase\n",
    "    clean_text = clean_text.lower()\n",
    "\n",
    "    # 7. Remove extra whitespaces (tabs, multiple spaces, newlines)\n",
    "    clean_text = re.sub(r'\\s+', ' ', clean_text).strip()\n",
    "\n",
    "    # 8. Remove leading/trailing specific characters that might remain\n",
    "    clean_text = clean_text.strip('.-_ ') # Remove common leading/trailing artifacts\n",
    "\n",
    "    # 9. Handle Unicode characters (e.g., accented characters to ASCII equivalents)\n",
    "    clean_text = unicodedata.normalize('NFKD', clean_text).encode('ascii', 'ignore').decode('utf-8')\n",
    "\n",
    "    return clean_text"
   ]
  },
  {
   "cell_type": "code",
   "execution_count": 8,
   "id": "3a364d57",
   "metadata": {},
   "outputs": [],
   "source": [
    "df['plain_text'] = df['text'].apply(clean_text)"
   ]
  },
  {
   "cell_type": "code",
   "execution_count": 9,
   "id": "62bc0a26",
   "metadata": {},
   "outputs": [
    {
     "name": "stdout",
     "output_type": "stream",
     "text": [
      "                                                text  \\\n",
      "0  Subject: [External Email] Amit, your applicati...   \n",
      "1  Subject: [External Email] Barclays: We’ve rece...   \n",
      "2  Subject: [External Email] Thank you for applyi...   \n",
      "3  Subject: [External Email] Amit, your applicati...   \n",
      "4  Subject: [External Email] Amit, your applicati...   \n",
      "\n",
      "                                          plain_text  \n",
      "0  subject external email amit, your application ...  \n",
      "1  subject external email barclays weve received ...  \n",
      "2  subject external email thank you for applying ...  \n",
      "3  subject external email amit, your application ...  \n",
      "4  subject external email amit, your application ...  \n"
     ]
    }
   ],
   "source": [
    "print(df[['text', 'plain_text']].head())"
   ]
  },
  {
   "cell_type": "code",
   "execution_count": 10,
   "id": "3e436ac3",
   "metadata": {},
   "outputs": [],
   "source": [
    "df = df.drop(columns='text')\n",
    "df = df[['plain_text','label']]"
   ]
  },
  {
   "cell_type": "code",
   "execution_count": 11,
   "id": "b84a44e6",
   "metadata": {},
   "outputs": [],
   "source": [
    "output_filename = \"clean_data.csv\"\n",
    "df.to_csv(output_filename, index=False)"
   ]
  }
 ],
 "metadata": {
  "kernelspec": {
   "display_name": "env",
   "language": "python",
   "name": "python3"
  },
  "language_info": {
   "codemirror_mode": {
    "name": "ipython",
    "version": 3
   },
   "file_extension": ".py",
   "mimetype": "text/x-python",
   "name": "python",
   "nbconvert_exporter": "python",
   "pygments_lexer": "ipython3",
   "version": "3.13.5"
  }
 },
 "nbformat": 4,
 "nbformat_minor": 5
}
