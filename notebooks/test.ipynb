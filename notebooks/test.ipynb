{
 "cells": [
  {
   "cell_type": "markdown",
   "metadata": {},
   "source": [
    "# Email Classification with Fine-tuned BERT"
   ]
  },
  {
   "cell_type": "markdown",
   "metadata": {},
   "source": [
    "## 1. Setup and Imports"
   ]
  },
  {
   "cell_type": "code",
   "execution_count": null,
   "metadata": {},
   "outputs": [],
   "source": [
    "import torch\n",
    "from transformers import pipeline\n",
    "import argparse"
   ]
  },
  {
   "cell_type": "markdown",
   "metadata": {},
   "source": [
    "## 2. Configuration"
   ]
  },
  {
   "cell_type": "code",
   "execution_count": null,
   "metadata": {},
   "outputs": [],
   "source": [
    "model_path = \"./fine_tuned_bert_classifier\""
   ]
  },
  {
   "cell_type": "markdown",
   "metadata": {},
   "source": [
    "## 3. Classification Function"
   ]
  },
  {
   "cell_type": "code",
   "execution_count": null,
   "metadata": {},
   "outputs": [],
   "source": [
    "def classify_email(text, model_path):\n",
    "    if not torch.cuda.is_available():\n",
    "        print(\"CUDA not available, using CPU for inference.\")\n",
    "        device = -1\n",
    "    else:\n",
    "        print(\"CUDA is available, using GPU for inference.\")\n",
    "        device = 0\n",
    "\n",
    "    try:\n",
    "        classifier = pipeline(\n",
    "            \"text-classification\",\n",
    "            model=model_path,\n",
    "            tokenizer=model_path,\n",
    "            device=device\n",
    "        )\n",
    "        \n",
    "        result = classifier(text)\n",
    "        \n",
    "        predicted_label = result[0]['label']\n",
    "        confidence_score = result[0]['score']\n",
    "        \n",
    "        return predicted_label, confidence_score\n",
    "\n",
    "    except Exception as e:\n",
    "        print(f\"An error occurred while loading the model or classifying the text: {e}\")\n",
    "        print(f\"Please ensure that a trained model exists in the '{model_path}' directory.\")\n",
    "        return None, None"
   ]
  },
  {
   "cell_type": "markdown",
   "metadata": {},
   "source": [
    "## 4. Classify Email"
   ]
  },
  {
   "cell_type": "code",
   "execution_count": null,
   "metadata": {},
   "outputs": [],
   "source": [
    "email_text_to_classify = \"Dear candidate, We regret to inform you that your application for the Software Engineer position was not selected at this time.\"\n",
    "\n",
    "print(f\"Classifying the following email text:{email_text_to_classify}\")\n",
    "\n",
    "predicted_label, confidence = classify_email(email_text_to_classify, model_path)\n",
    "\n",
    "if predicted_label and confidence:\n",
    "    print(f\"Prediction complete:\")\n",
    "    print(f\"  Predicted Label: {predicted_label}\")\n",
    "    print(f\"  Confidence Score: {confidence:.4f}\")"
   ]
  }
 ],
 "metadata": {
  "kernelspec": {
   "display_name": "Python 3",
   "language": "python",
   "name": "python3"
  },
  "language_info": {
   "codemirror_mode": {
    "name": "ipython",
    "version": 3
   },
   "file_extension": ".py",
   "mimetype": "text/x-python",
   "name": "python",
   "nbconvert_exporter": "python",
   "pygments_lexer": "ipython3",
   "version": "3.10.12"
  }
 },
 "nbformat": 4,
 "nbformat_minor": 4
}
